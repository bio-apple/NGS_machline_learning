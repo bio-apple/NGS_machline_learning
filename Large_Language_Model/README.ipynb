{
 "cells": [
  {
   "metadata": {},
   "cell_type": "markdown",
   "source": [
    "## 本地运行大语言\n",
    "\n",
    "*\t硬件要求\n",
    "\n",
    "        CPU：多核处理器（推荐 4 核或以上）。\n",
    "        GPU：如果你计划运行大型模型或进行微调，推荐使用具有较高计算能力的 GPU（如 NVIDIA 的 CUDA 支持）。\n",
    "        内存：至少 8GB RAM，运行较大模型时推荐 16GB 或更高。\n",
    "        存储：需要足够的硬盘空间来存储预训练模型，通常需要 10GB 至数百 GB 的空间，具体取决于模型的大小。\n",
    "        软件要求：确保系统上安装了最新版本的 Python（如果打算使用 Python SDK）\n",
    "\n",
    "*\t个人电脑(最好是Mac可以无缝使用GPU加速,windows也可以)\n",
    "\n",
    "*   安装好python3\n",
    "\n",
    "*   电脑安装[Ollama](https://ollama.com)\n",
    "\n",
    "*   启动Ollama\n",
    "\n",
    "        ollama serve\n",
    "\n",
    "*   安装python模块\n",
    "\n",
    "        pip install ollama\n",
    "\n",
    "*   [模型下载](https://ollama.com/models),本地安装下载，示例代码：\n",
    "\n",
    "        ollama run deepseek-r1"
   ],
   "id": "f3bd1e66810fb0df"
  }
 ],
 "metadata": {
  "kernelspec": {
   "display_name": "Python 3",
   "language": "python",
   "name": "python3"
  },
  "language_info": {
   "codemirror_mode": {
    "name": "ipython",
    "version": 2
   },
   "file_extension": ".py",
   "mimetype": "text/x-python",
   "name": "python",
   "nbconvert_exporter": "python",
   "pygments_lexer": "ipython2",
   "version": "2.7.6"
  }
 },
 "nbformat": 4,
 "nbformat_minor": 5
}
