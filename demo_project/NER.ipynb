{
 "cells": [
  {
   "cell_type": "code",
   "id": "initial_id",
   "metadata": {
    "collapsed": true,
    "ExecuteTime": {
     "end_time": "2025-10-13T06:23:25.145678Z",
     "start_time": "2025-10-13T06:23:20.825038Z"
    }
   },
   "source": [
    "import spacy\n",
    "\n",
    "# 加载模型\n",
    "nlp = spacy.load(\"en_core_sci_lg\")\n",
    "\n",
    "# 完整NLP流水线\n",
    "text = \"OZ073986.1|Severe acute respiratory syndrome coronavirus 2 isolate INEI123726 genome assembly, complete genome: monopartite\"\n",
    "doc = nlp(text)\n",
    "\n",
    "# 分词\n",
    "print(\"分词:\", [token.text for token in doc])\n",
    "\n",
    "# 词性标注\n",
    "print(\"词性:\", [(token.text, token.pos_) for token in doc])\n",
    "\n",
    "# 命名实体识别\n",
    "print(\"实体:\", [(ent.text, ent.label_) for ent in doc.ents])\n",
    "\n",
    "# 依存句法分析\n",
    "print(\"依存关系:\", [(token.text, token.dep_, token.head.text) for token in doc])\n",
    "\n"
   ],
   "outputs": [
    {
     "name": "stdout",
     "output_type": "stream",
     "text": [
      "分词: ['OZ073986.1|Severe', 'acute', 'respiratory', 'syndrome', 'coronavirus', '2', 'isolate', 'INEI123726', 'genome', 'assembly', ',', 'complete', 'genome', ':', 'monopartite']\n",
      "词性: [('OZ073986.1|Severe', 'ADJ'), ('acute', 'ADJ'), ('respiratory', 'ADJ'), ('syndrome', 'NOUN'), ('coronavirus', 'NOUN'), ('2', 'NUM'), ('isolate', 'VERB'), ('INEI123726', 'NOUN'), ('genome', 'NOUN'), ('assembly', 'NOUN'), (',', 'PUNCT'), ('complete', 'ADJ'), ('genome', 'NOUN'), (':', 'PUNCT'), ('monopartite', 'ADJ')]\n",
      "实体: [('acute respiratory syndrome', 'ENTITY'), ('coronavirus', 'ENTITY'), ('isolate', 'ENTITY'), ('INEI123726', 'ENTITY'), ('genome assembly', 'ENTITY'), ('complete', 'ENTITY'), ('genome', 'ENTITY'), ('monopartite', 'ENTITY')]\n",
      "依存关系: [('OZ073986.1|Severe', 'amod', 'syndrome'), ('acute', 'amod', 'syndrome'), ('respiratory', 'amod', 'syndrome'), ('syndrome', 'nsubj', 'isolate'), ('coronavirus', 'dep', 'syndrome'), ('2', 'nummod', 'coronavirus'), ('isolate', 'ROOT', 'isolate'), ('INEI123726', 'compound', 'assembly'), ('genome', 'compound', 'assembly'), ('assembly', 'dobj', 'isolate'), (',', 'punct', 'assembly'), ('complete', 'amod', 'genome'), ('genome', 'appos', 'assembly'), (':', 'punct', 'isolate'), ('monopartite', 'dep', 'isolate')]\n"
     ]
    }
   ],
   "execution_count": 10
  }
 ],
 "metadata": {
  "kernelspec": {
   "display_name": "Python 3",
   "language": "python",
   "name": "python3"
  },
  "language_info": {
   "codemirror_mode": {
    "name": "ipython",
    "version": 2
   },
   "file_extension": ".py",
   "mimetype": "text/x-python",
   "name": "python",
   "nbconvert_exporter": "python",
   "pygments_lexer": "ipython2",
   "version": "2.7.6"
  }
 },
 "nbformat": 4,
 "nbformat_minor": 5
}
