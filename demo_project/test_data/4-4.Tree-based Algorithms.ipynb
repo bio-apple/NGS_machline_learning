{
 "cells": [
  {
   "metadata": {},
   "cell_type": "markdown",
   "source": [
    "| 模型类型 | 代表模型 | Python 函数 | 来源                   | 核心优势与应用 |\n",
    "| :--- | :--- | :--- |:---------------------| :--- |\n",
    "| **单一模型** | 决策树 | `sklearn.tree.DecisionTreeClassifier`<br>`sklearn.tree.DecisionTreeRegressor` | **sklearn**          | **模型可解释性高**，适合需要解释决策的场景。 |\n",
    "| **Bagging** | 随机森林 | `sklearn.ensemble.RandomForestClassifier`<br>`sklearn.ensemble.RandomForestRegressor` | **sklearn**          | **通用性强、性能稳定**，是处理大多数问题的首选基准模型。 |\n",
    "| **Boosting** | GBDT | `sklearn.ensemble.GradientBoostingClassifier`<br>`sklearn.ensemble.GradientBoostingRegressor` | **sklearn**          | **高准确率**，适合追求性能且数据规模中等的场景。 |\n",
    "| **Boosting 优化** | XGBoost | `xgboost.XGBClassifier`<br>`xgboost.XGBRegressor` | 由**陈天奇**在**华盛顿大学**开发 | **高性能、功能全面**，是数据竞赛和工业界的标准配置。 |\n",
    "| | LightGBM | `lightgbm.LGBMClassifier`<br>`lightgbm.LGBMRegressor` | **微软（Microsoft）**    | **速度极快、内存占用低**，尤其适合处理海量数据。 |\n",
    "| | CatBoost | `catboost.CatBoostClassifier`<br>`catboost.CatBoostRegressor` | **Yandex(俄罗斯科技公司)**  | **自动处理类别特征**，简化数据预处理。 |\n",
    "| **集成** | TensorFlow Decision Forests | `tfdf.keras.RandomForestModel`<br>`tfdf.keras.GradientBoostedTreesModel` | **谷歌（Google）**       | **与TensorFlow生态无缝集成**，方便部署和混合建模。 |"
   ],
   "id": "e3570f9670a487dc"
  }
 ],
 "metadata": {
  "kernelspec": {
   "display_name": "Python 3",
   "language": "python",
   "name": "python3"
  },
  "language_info": {
   "codemirror_mode": {
    "name": "ipython",
    "version": 2
   },
   "file_extension": ".py",
   "mimetype": "text/x-python",
   "name": "python",
   "nbconvert_exporter": "python",
   "pygments_lexer": "ipython2",
   "version": "2.7.6"
  }
 },
 "nbformat": 4,
 "nbformat_minor": 5
}
