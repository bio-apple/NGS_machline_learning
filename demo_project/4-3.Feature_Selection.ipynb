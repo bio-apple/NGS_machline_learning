{
 "cells": [
  {
   "metadata": {},
   "cell_type": "markdown",
   "source": [
    "# Comprehensive Guide on Feature Selection\n",
    "\n",
    "参考学习链接：https://www.kaggle.com/code/prashant111/comprehensive-guide-on-feature-selection/notebook"
   ],
   "id": "b95e33d7b6f8c88a"
  },
  {
   "metadata": {},
   "cell_type": "markdown",
   "source": [
    "## 1.删除恒定特征 Remove constant/quasi-constant features\n",
    "使用sklearn的VarianceThreshold函数<br>\n",
    "sklearn.feature_selection.VarianceThreshold(threshold=0.0) #默认方差为0，remove the features that have the same value in all samples.<br>\n",
    "threshold 可以自行设定 从而达到筛选的目的<br>\n",
    "https://scikit-learn.org/stable/modules/generated/sklearn.feature_selection.VarianceThreshold.html <br>\n",
    "**代码示列如下:**"
   ],
   "id": "108cac5d0b80cdfe"
  },
  {
   "metadata": {
    "ExecuteTime": {
     "end_time": "2025-09-17T05:40:13.585568Z",
     "start_time": "2025-09-17T05:40:13.582144Z"
    }
   },
   "cell_type": "code",
   "source": [
    "from sklearn.feature_selection import VarianceThreshold\n",
    "X = [[0, 2, 0, 3], [0, 1, 4, 3], [0, 1, 1, 3]]\n",
    "print(X)\n",
    "selector = VarianceThreshold(threshold=0)\n",
    "selector.fit_transform(X)"
   ],
   "id": "404af4631c7804b8",
   "outputs": [
    {
     "name": "stdout",
     "output_type": "stream",
     "text": [
      "[[0, 2, 0, 3], [0, 1, 4, 3], [0, 1, 1, 3]]\n"
     ]
    },
    {
     "data": {
      "text/plain": [
       "array([[2, 0],\n",
       "       [1, 4],\n",
       "       [1, 1]])"
      ]
     },
     "execution_count": 3,
     "metadata": {},
     "output_type": "execute_result"
    }
   ],
   "execution_count": 3
  },
  {
   "metadata": {},
   "cell_type": "markdown",
   "source": [
    "## 2. 按照百分比筛选 SelectPercentile\n",
    "sklearn.feature_selection.SelectPercentile(f_classif, percentile=10)<br>\n",
    "https://scikit-learn.org/stable/modules/generated/sklearn.feature_selection.SelectPercentile.html<br>\n",
    "\n",
    "For regression tasks: f_regression, mutual_info_regression<br>\n",
    "For classification tasks: chi2, f_classif, mutual_info_classif<br>\n",
    "**代码示例如下:**"
   ],
   "id": "6f89c737fa1e1656"
  },
  {
   "metadata": {
    "ExecuteTime": {
     "end_time": "2025-09-17T06:11:37.482905Z",
     "start_time": "2025-09-17T06:11:37.473317Z"
    }
   },
   "cell_type": "code",
   "source": [
    "from sklearn.datasets import load_digits\n",
    "from sklearn.feature_selection import SelectPercentile, chi2\n",
    "X, y = load_digits(return_X_y=True)\n",
    "X.shape"
   ],
   "id": "8e3f99e1ff3ba3a0",
   "outputs": [
    {
     "data": {
      "text/plain": [
       "(1797, 64)"
      ]
     },
     "execution_count": 7,
     "metadata": {},
     "output_type": "execute_result"
    }
   ],
   "execution_count": 7
  },
  {
   "metadata": {
    "ExecuteTime": {
     "end_time": "2025-09-17T06:11:44.515806Z",
     "start_time": "2025-09-17T06:11:44.509088Z"
    }
   },
   "cell_type": "code",
   "source": [
    "X_new = SelectPercentile(chi2, percentile=10).fit_transform(X, y)\n",
    "X_new.shape"
   ],
   "id": "4f4aad03db589dfd",
   "outputs": [
    {
     "data": {
      "text/plain": [
       "(1797, 7)"
      ]
     },
     "execution_count": 8,
     "metadata": {},
     "output_type": "execute_result"
    }
   ],
   "execution_count": 8
  },
  {
   "metadata": {},
   "cell_type": "markdown",
   "source": [
    "## 3. SelectKBest:Select features according to the k highest scores\n",
    "sklearn.feature_selection.SelectKBest(chi2, k=10)<br>\n",
    "https://scikit-learn.org/stable/modules/generated/sklearn.feature_selection.SelectKBest.html <br>\n",
    "\n",
    "For regression tasks: f_regression, mutual_info_regression<br>\n",
    "For classification tasks: chi2, f_classif, mutual_info_classif<br>\n",
    "**代码示例如下:**"
   ],
   "id": "19e0246935745ed3"
  },
  {
   "metadata": {
    "ExecuteTime": {
     "end_time": "2025-09-17T06:18:34.374228Z",
     "start_time": "2025-09-17T06:18:34.362261Z"
    }
   },
   "cell_type": "code",
   "source": [
    "from sklearn.datasets import load_digits\n",
    "from sklearn.feature_selection import SelectKBest, chi2\n",
    "X, y = load_digits(return_X_y=True)\n",
    "X.shape"
   ],
   "id": "452fc7997a32ec87",
   "outputs": [
    {
     "data": {
      "text/plain": [
       "(1797, 64)"
      ]
     },
     "execution_count": 9,
     "metadata": {},
     "output_type": "execute_result"
    }
   ],
   "execution_count": 9
  },
  {
   "metadata": {
    "ExecuteTime": {
     "end_time": "2025-09-17T06:18:36.143930Z",
     "start_time": "2025-09-17T06:18:36.138371Z"
    }
   },
   "cell_type": "code",
   "source": [
    "X_new = SelectKBest(chi2, k=20).fit_transform(X, y)\n",
    "X_new.shape"
   ],
   "id": "e17040b2a28b0d3d",
   "outputs": [
    {
     "data": {
      "text/plain": [
       "(1797, 20)"
      ]
     },
     "execution_count": 10,
     "metadata": {},
     "output_type": "execute_result"
    }
   ],
   "execution_count": 10
  }
 ],
 "metadata": {
  "kernelspec": {
   "display_name": "Python 3",
   "language": "python",
   "name": "python3"
  },
  "language_info": {
   "codemirror_mode": {
    "name": "ipython",
    "version": 2
   },
   "file_extension": ".py",
   "mimetype": "text/x-python",
   "name": "python",
   "nbconvert_exporter": "python",
   "pygments_lexer": "ipython2",
   "version": "2.7.6"
  }
 },
 "nbformat": 4,
 "nbformat_minor": 5
}
