{
 "cells": [
  {
   "metadata": {},
   "cell_type": "markdown",
   "source": [
    "# Comprehensive Guide on Feature Selection\n",
    "\n",
    "<img src=\"./Feature-Selection.png\" width=\"350\" height=\"300\">\n",
    "\n",
    "参考学习链接：https://www.kaggle.com/code/prashant111/comprehensive-guide-on-feature-selection/notebook\n",
    "\n",
    "| 方法                     | 说明 | sklearn                       |\n",
    "|:-----------------------| :--- |:------------------------------|\n",
    "| **1.1.过滤法 (Filter)**   | 相关系数、卡方检验等 | SelectKBest/SelectPercentile, f_classif, chi2 |\n",
    "| **1.2.包裹法 (Wrapper)**  | 递归特征消除 | RFE, RFECV                    |\n",
    "| **1.3.嵌入法 (Embedded)** | 基于模型的权重 | SelectFromModel, Lasso, Tree  |"
   ],
   "id": "b95e33d7b6f8c88a"
  },
  {
   "metadata": {},
   "cell_type": "markdown",
   "source": [
    "## 1.1 过滤法\n",
    "---\n",
    "<img src=\"./Feature-Selection_1.filter.png\" width=\"600\" height=\"600\">"
   ],
   "id": "108cac5d0b80cdfe"
  },
  {
   "metadata": {},
   "cell_type": "markdown",
   "source": [
    "### 1.1.1.删除恒定特征 Remove constant/quasi-constant features\n",
    "使用sklearn的VarianceThreshold函数<br>\n",
    "sklearn.feature_selection.VarianceThreshold(threshold=0.0) #默认方差为0，remove the features that have the same value in all samples.<br>\n",
    "threshold 可以自行设定 从而达到筛选的目的<br>\n",
    "https://scikit-learn.org/stable/modules/generated/sklearn.feature_selection.VarianceThreshold.html <br>\n",
    "**代码示列如下:**"
   ],
   "id": "4b52073bb9c76543"
  },
  {
   "metadata": {
    "ExecuteTime": {
     "end_time": "2025-09-17T07:56:24.743576Z",
     "start_time": "2025-09-17T07:56:24.737803Z"
    }
   },
   "cell_type": "code",
   "source": [
    "from sklearn.feature_selection import VarianceThreshold\n",
    "X = [[0, 2, 0, 3], [0, 1, 4, 3], [0, 1, 1, 3]]\n",
    "print(X)\n",
    "selector = VarianceThreshold(threshold=0)\n",
    "selector.fit_transform(X)"
   ],
   "id": "404af4631c7804b8",
   "outputs": [
    {
     "name": "stdout",
     "output_type": "stream",
     "text": [
      "[[0, 2, 0, 3], [0, 1, 4, 3], [0, 1, 1, 3]]\n"
     ]
    },
    {
     "data": {
      "text/plain": [
       "array([[2, 0],\n",
       "       [1, 4],\n",
       "       [1, 1]])"
      ]
     },
     "execution_count": 25,
     "metadata": {},
     "output_type": "execute_result"
    }
   ],
   "execution_count": 25
  },
  {
   "metadata": {},
   "cell_type": "markdown",
   "source": [
    "### 1.1.2. 按照百分比筛选 SelectPercentile\n",
    "sklearn.feature_selection.SelectPercentile(f_classif, percentile=10)<br>\n",
    "https://scikit-learn.org/stable/modules/generated/sklearn.feature_selection.SelectPercentile.html<br>\n",
    "\n",
    "For regression tasks: f_regression, mutual_info_regression<br>\n",
    "For classification tasks: chi2, f_classif, mutual_info_classif<br>\n",
    "**代码示例如下:**"
   ],
   "id": "6f89c737fa1e1656"
  },
  {
   "metadata": {
    "ExecuteTime": {
     "end_time": "2025-09-17T07:54:17.355147Z",
     "start_time": "2025-09-17T07:54:17.348055Z"
    }
   },
   "cell_type": "code",
   "source": [
    "from sklearn.datasets import load_digits\n",
    "from sklearn.feature_selection import SelectPercentile, chi2\n",
    "X, y = load_digits(return_X_y=True)\n",
    "X.shape"
   ],
   "id": "8e3f99e1ff3ba3a0",
   "outputs": [
    {
     "data": {
      "text/plain": [
       "(1797, 64)"
      ]
     },
     "execution_count": 18,
     "metadata": {},
     "output_type": "execute_result"
    }
   ],
   "execution_count": 18
  },
  {
   "metadata": {
    "ExecuteTime": {
     "end_time": "2025-09-17T07:54:17.370809Z",
     "start_time": "2025-09-17T07:54:17.367007Z"
    }
   },
   "cell_type": "code",
   "source": [
    "X_new = SelectPercentile(chi2, percentile=10).fit_transform(X, y)\n",
    "X_new.shape"
   ],
   "id": "4f4aad03db589dfd",
   "outputs": [
    {
     "data": {
      "text/plain": [
       "(1797, 7)"
      ]
     },
     "execution_count": 19,
     "metadata": {},
     "output_type": "execute_result"
    }
   ],
   "execution_count": 19
  },
  {
   "metadata": {},
   "cell_type": "markdown",
   "source": [
    "### 1.1.3. SelectKBest:Select features according to the k highest scores\n",
    "sklearn.feature_selection.SelectKBest(chi2, k=10)<br>\n",
    "https://scikit-learn.org/stable/modules/generated/sklearn.feature_selection.SelectKBest.html <br>\n",
    "\n",
    "For regression tasks: f_regression, mutual_info_regression<br>\n",
    "For classification tasks: chi2, f_classif, mutual_info_classif<br>\n",
    "**代码示例如下:**"
   ],
   "id": "19e0246935745ed3"
  },
  {
   "metadata": {
    "ExecuteTime": {
     "end_time": "2025-09-17T07:54:17.379951Z",
     "start_time": "2025-09-17T07:54:17.374189Z"
    }
   },
   "cell_type": "code",
   "source": [
    "from sklearn.datasets import load_digits\n",
    "from sklearn.feature_selection import SelectKBest, chi2\n",
    "X, y = load_digits(return_X_y=True)\n",
    "X.shape"
   ],
   "id": "452fc7997a32ec87",
   "outputs": [
    {
     "data": {
      "text/plain": [
       "(1797, 64)"
      ]
     },
     "execution_count": 20,
     "metadata": {},
     "output_type": "execute_result"
    }
   ],
   "execution_count": 20
  },
  {
   "metadata": {
    "ExecuteTime": {
     "end_time": "2025-09-17T07:54:17.389379Z",
     "start_time": "2025-09-17T07:54:17.386125Z"
    }
   },
   "cell_type": "code",
   "source": [
    "X_new = SelectKBest(chi2, k=20).fit_transform(X, y)\n",
    "X_new.shape"
   ],
   "id": "e17040b2a28b0d3d",
   "outputs": [
    {
     "data": {
      "text/plain": [
       "(1797, 20)"
      ]
     },
     "execution_count": 21,
     "metadata": {},
     "output_type": "execute_result"
    }
   ],
   "execution_count": 21
  },
  {
   "metadata": {},
   "cell_type": "markdown",
   "source": [
    "| 函数 | 适用任务 | 适用特征 | 适用目标变量 | 衡量标准 | 选择依据 |\n",
    "| :--- | :--- | :--- | :--- | :--- | :--- |\n",
    "| `f_regression` | 回归 | 数值型 | 数值型 | F-test (F检验) | 衡量**两个数值型变量之间的线性关系**。如果你的特征和目标变量是线性的，这是一个非常好的选择。 |\n",
    "| `mutual_info_regression` | 回归 | **数值型或类别型** | 数值型 | 互信息 (Mutual Information) | 衡量两个变量之间的**非线性关系**。它能捕捉任何类型的关系，包括非线性的。如果你的特征和目标变量是非线性的，或者特征是类别型，这是更好的选择。 |\n",
    "| `chi2` | 分类 | **非负的数值型或类别型** | 类别型 | 卡方检验 (Chi-squared test) | 衡量**两个类别型变量**之间的独立性。它计算观察到的频率与期望的频率之间的差异。如果你的特征是类别型，并且你希望衡量它与目标类别的关系，就选择它。**注意：** 特征值必须是非负数。 |\n",
    "| `f_classif` | 分类 | 数值型 | 类别型 | ANOVA F-test (方差分析) | 衡量**一个数值型特征与多个类别**之间的差异。它测试不同类别中特征的平均值是否显著不同。如果你的特征是数值型，目标变量是类别型，这是一个很好的默认选择。 |\n",
    "| `mutual_info_classif` | 分类 | **数值型或类别型** | 类别型 | 互信息 (Mutual Information) | 衡量**两个变量之间的任何关系**（线性或非线性）。它是 `mutual_info_regression` 的分类版本。如果你不确定特征与目标变量的关系是线性的还是非线性的，这是最稳妥的选择。 |"
   ],
   "id": "aca2a3657354f1ca"
  },
  {
   "metadata": {},
   "cell_type": "markdown",
   "source": [
    "https://scikit-learn.org/stable/auto_examples/feature_selection/plot_f_test_vs_mi.html\n",
    "| 比较点 | **F-test** | **Mutual Information** |\n",
    "| :--- | :--- | :--- |\n",
    "| **衡量的关系** | **线性关系** | **线性与非线性关系** |\n",
    "| **计算速度** | 较快 | 较慢 |\n",
    "| **适用范围** | 适用于特征和目标变量呈线性关系的情况 | 适用于**所有情况**，包括关系未知或非线性的情况 |\n",
    "| **典型应用** | **回归：** `f_regression`<br>**分类：** `f_classif` | **回归：** `mutual_info_regression`<br>**分类：** `mutual_info_classif` |"
   ],
   "id": "65627cc716d74b03"
  },
  {
   "metadata": {},
   "cell_type": "markdown",
   "source": [
    "### 1.1.4:Correlation-Matrix with Heatmap\n",
    "\n",
    "**方法**：计算每个特征与 target 的相关性，然后筛选出相关性较高的特征。<br>\n",
    "**目的**：为了**降维**和**提升模型性能**，只保留与目标变量（target）强相关的特征。"
   ],
   "id": "52202d3b52090822"
  },
  {
   "metadata": {
    "ExecuteTime": {
     "end_time": "2025-09-17T07:55:23.999375Z",
     "start_time": "2025-09-17T07:55:23.935578Z"
    }
   },
   "cell_type": "code",
   "source": [
    "import pandas as pd\n",
    "import numpy as np\n",
    "import seaborn as sns\n",
    "import matplotlib.pyplot as plt\n",
    "from sklearn.datasets import load_iris\n",
    "\n",
    "def feature_selection_by_correlation(df, target, threshold=0.9):\n",
    "    \"\"\"\n",
    "    根据特征与特征之间的相关性，筛选出冗余特征，并保留与目标最相关的。\n",
    "\n",
    "    参数:\n",
    "    df (pd.DataFrame): 包含特征和目标变量的DataFrame。\n",
    "    target (str): 目标变量的列名。\n",
    "    threshold (float): 相关性阈值，用于判断特征是否高度相关。\n",
    "\n",
    "    返回:\n",
    "    list: 筛选后应保留的特征列表。\n",
    "    \"\"\"\n",
    "    # 1. 分离特征和目标变量\n",
    "    features_df = df.drop(columns=[target])\n",
    "\n",
    "    # 2. 计算特征之间的相关性矩阵\n",
    "    corr_matrix = features_df.corr()\n",
    "\n",
    "    # 3. 绘制相关性热力图（可选，用于可视化）\n",
    "    plt.figure(figsize=(8, 6))\n",
    "    sns.heatmap(corr_matrix, annot=True, cmap='coolwarm', fmt=\".2f\", linewidths=.5)\n",
    "    plt.title('Feature Correlation Heatmap', fontsize=16)\n",
    "    plt.show()\n",
    "\n",
    "    # 4. 获取特征与目标变量的相关性，用于后续决策\n",
    "    feature_target_corr = df.corr()[target].drop(target)\n",
    "\n",
    "    # 5. 找出高度相关的特征对\n",
    "    upper_corr_matrix = corr_matrix.where(np.triu(np.ones(corr_matrix.shape), k=1).astype(np.bool_))\n",
    "\n",
    "    # 6. 遍历高度相关对，并进行筛选\n",
    "    to_drop = set()\n",
    "    for col in upper_corr_matrix.columns:\n",
    "        # 获取与当前列高度相关的其他列\n",
    "        highly_correlated_cols = upper_corr_matrix.index[upper_corr_matrix[col].abs() > threshold].tolist()\n",
    "\n",
    "        if highly_correlated_cols:\n",
    "            # 将当前列和与其高度相关的列合并为一个候选集\n",
    "            candidate_features = [col] + highly_correlated_cols\n",
    "\n",
    "            # 在候选集中，找出与目标变量最相关的特征\n",
    "            best_feature = feature_target_corr[candidate_features].abs().idxmax()\n",
    "\n",
    "            # 将候选集中除了最优特征之外的其他特征都添加到待移除集合\n",
    "            for feature in candidate_features:\n",
    "                if feature != best_feature:\n",
    "                    to_drop.add(feature)\n",
    "\n",
    "    # 7. 筛选出最终要保留的特征\n",
    "    all_features = set(features_df.columns)\n",
    "    selected_features = list(all_features - to_drop)\n",
    "\n",
    "    return selected_features\n",
    "\n",
    "# ----------------- 运行示例 -----------------\n",
    "\n",
    "# 加载 iris 数据集\n",
    "iris = load_iris()\n",
    "iris_df = pd.DataFrame(data=iris.data, columns=iris.feature_names)\n",
    "iris_df['target'] = iris.target\n",
    "\n",
    "# 调用函数，设置阈值为 0.9\n",
    "selected_features = feature_selection_by_correlation(iris_df, target='target', threshold=0.9)\n",
    "\n",
    "print(\"\\n根据相关性筛选后应保留的特征:\")\n",
    "print(selected_features)\n",
    "print(\"\\n筛选后数据集的列:\")\n",
    "print(iris_df[selected_features].columns)"
   ],
   "id": "446d19e87c7a8386",
   "outputs": [
    {
     "data": {
      "text/plain": [
       "<Figure size 800x600 with 2 Axes>"
      ],
      "image/png": "[encoded data removed]"
     },
     "metadata": {},
     "output_type": "display_data"
    },
    {
     "name": "stdout",
     "output_type": "stream",
     "text": [
      "\n",
      "根据相关性筛选后应保留的特征:\n",
      "['sepal width (cm)', 'sepal length (cm)', 'petal width (cm)']\n",
      "\n",
      "筛选后数据集的列:\n",
      "Index(['sepal width (cm)', 'sepal length (cm)', 'petal width (cm)'], dtype='object')\n"
     ]
    }
   ],
   "execution_count": 24
  },
  {
   "metadata": {},
   "cell_type": "markdown",
   "source": [
    "### 1.2.包裹法 (Wrapper)\n",
    "---\n",
    "<img src=\"./Feature-Selection_2.Wrapper.png\" width=\"700\" height=\"250\">"
   ],
   "id": "28df477a28c74177"
  },
  {
   "metadata": {},
   "cell_type": "markdown",
   "source": [
    "### 1.3.嵌入法 (Embedded)\n",
    "---\n",
    "**方法**：如果两个特征（如 A 和 B）高度相关，通常只保留其中一个。筛选标准可以是选择与 target 相关性更高的那个，或者使用 **`sklearn.feature_selection.SelectFromModel`** 等自动方法进行筛选。<br>\n",
    "**目的**：为了**避免信息冗余**，处理**多重共线性**。"
   ],
   "id": "45dbb64ce13335be"
  },
  {
   "metadata": {},
   "cell_type": "markdown",
   "source": "",
   "id": "65e1237dda2a15a1"
  }
 ],
 "metadata": {
  "kernelspec": {
   "display_name": "Python 3",
   "language": "python",
   "name": "python3"
  },
  "language_info": {
   "codemirror_mode": {
    "name": "ipython",
    "version": 2
   },
   "file_extension": ".py",
   "mimetype": "text/x-python",
   "name": "python",
   "nbconvert_exporter": "python",
   "pygments_lexer": "ipython2",
   "version": "2.7.6"
  }
 },
 "nbformat": 4,
 "nbformat_minor": 5
}
