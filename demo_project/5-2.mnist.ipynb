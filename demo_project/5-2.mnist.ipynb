{
 "cells": [
  {
   "metadata": {},
   "cell_type": "markdown",
   "source": [
    "# MNIST(Modified National Institute of Standards and Technology dataset)\n",
    "\n",
    "MNIST Dataset 是机器学习和计算机视觉领域中最著名、最常用的数据集之一，被誉为深度学习的“Hello World”。\n",
    "\n",
    "| 特点 | 描述                                                  |\n",
    "| :--- |:----------------------------------------------------|\n",
    "| **内容** | **手写数字图像** (0 到 9，共 10 个类别)                         |\n",
    "| **图像类型** | **灰度图像** (单通道)                                      |\n",
    "| **图像大小** | **$28 \\times 28$ 像素** (共 $28 \\times 28 = 784$ 个像素点) |\n",
    "| **数据总量** | **70,000 张图像（训练集：60000 测试集:10000）**                 |\n",
    "| **应用领域** | 图像分类、模式识别，是评估新的机器学习算法的**标准基准**。                     |\n",
    "\n",
    "## 1.数据集下载**\n",
    "\n",
    "    wget https://storage.googleapis.com/tensorflow/tf-keras-datasets/mnist.npz\n",
    "\n",
    "npz 文件格式是 NumPy 库专用的压缩文件格式,类似于 .zip 文件\n",
    "\n",
    "\n",
    "拓展数据集:**\n",
    "\n",
    "随着机器学习的发展，人们也提出了更具挑战性的数据集作为 MNIST 的后续或替代品：\n",
    "\n",
    "Fashion-MNIST: 图像内容从手写数字换成了 10 种时尚物品（如 T 恤、裤子、鞋子等），图像大小和结构保持一致 (28×28 灰度图)，难度略高于原始 MNIST。\n",
    "\n",
    "EMNIST (Extended MNIST): 包含了手写数字、大写字母和小写字母，字符种类更广，应用场景更丰富。"
   ],
   "id": "4bbeb7795adf5291"
  },
  {
   "metadata": {},
   "cell_type": "markdown",
   "source": [
    "| 特性 | TensorFlow (底层框架/引擎)                  | Keras (高级 API/接口)                                 |\n",
    "| :--- |:--------------------------------------|:--------------------------------------------------|\n",
    "| **主要定位** | **底层计算库**，负责张量运算、内存分配和并行计算。           | **高级 API**，负责快速、模块化地构建、训练和评估模型。                   |\n",
    "| **角色** | 深度学习的**引擎**和**骨架**。                   | 深度学习的**用户界面**和**积木**。                             |\n",
    "| **复杂度** | **复杂**。提供对计算细节的完全控制，适合研究和底层优化。        | **简洁直观**。旨在减少代码量和认知负担，提高开发效率。                     |\n",
    "| **默认导入** | 需独立导入：`import tensorflow as tf`       | **集成**在 TensorFlow 中：`tf.keras`                   |\n",
    "| **目标用户** | 资深研究人员、需要自定义操作的开发者。                   | **绝大多数用户**、初学者、需要快速原型设计的工程师。                      |\n",
    "| **关系总结** | Keras 在运行时**使用 TensorFlow** 作为后端计算引擎。 | **`tf.keras`** 是 TensorFlow **官方推荐**和集成的标准高级 API。 |"
   ],
   "id": "d6f49af9fcbe69ca"
  },
  {
   "metadata": {},
   "cell_type": "code",
   "outputs": [],
   "execution_count": null,
   "source": [
    "## 加载方式1（数据会下载到 ~/.keras/datasets,也可以本地下载好，存在该目录）\n",
    "\n",
    "import keras\n",
    "(x_train, y_train), (x_test, y_test) = keras.datasets.mnist.load_data()"
   ],
   "id": "e5a880eb83d02bf7"
  },
  {
   "cell_type": "code",
   "id": "initial_id",
   "metadata": {
    "collapsed": true,
    "ExecuteTime": {
     "end_time": "2025-10-10T04:35:38.074670Z",
     "start_time": "2025-10-10T04:35:37.943263Z"
    }
   },
   "source": [
    "#加载方式2\n",
    "#本地加载 wget https://storage.googleapis.com/tensorflow/tf-keras-datasets/mnist.npz\n",
    "import numpy as np\n",
    "import tensorflow as tf\n",
    "#当 NumPy 将包含 Python 对象的数组保存到 .npy 或 .npz 文件中时，它必须使用 Pickle 协议 来序列化这些 Python 对象\n",
    "with np.load(\"./test_data/mnist.npz\", allow_pickle=True) as data:\n",
    "    x_train = data['x_train']\n",
    "    y_train = data['y_train']\n",
    "    x_test = data['x_test']\n",
    "    y_test = data['y_test']\n",
    "\n",
    "# 代码来源:https://www.tensorflow.org/?hl=zh-cn\n",
    "\n",
    "# 数据归一化（Normalization）。MNIST 图像的像素值范围是 0 到 255（灰度值）。将像素值除以 255.0，将其范围缩放到 0.0 到 1.0 之间。这是深度学习模型训练的标准预处理步骤，有助于加速模型收敛并提高训练稳定性。\n",
    "x_train, x_test = x_train / 255.0, x_test / 255.0"
   ],
   "outputs": [],
   "execution_count": 32
  },
  {
   "metadata": {
    "ExecuteTime": {
     "end_time": "2025-10-10T04:35:45.493943Z",
     "start_time": "2025-10-10T04:35:40.080063Z"
    }
   },
   "cell_type": "code",
   "source": [
    "# 代码来源:https://www.tensorflow.org/?hl=zh-cn\n",
    "model = tf.keras.models.Sequential([\n",
    "  tf.keras.layers.Flatten(input_shape=(28, 28)),#将输入图像从二维数组 (28×28) 转换为一个一维向量 (784)，作为全连接层的输入。input_shape 指定了输入数据的形状。\n",
    "  tf.keras.layers.Dense(128, activation='relu'),#具有 128 个神经元的隐藏层。使用 ReLU (Rectified Linear Unit) 激活函数，引入非线性。\n",
    "  tf.keras.layers.Dropout(0.2),#在训练过程中随机地将 20% (0.2) 的神经元输出设置为零。这是一种正则化技术，用于防止模型在训练集上过度拟合 (overfitting)。\n",
    "  tf.keras.layers.Dense(10, activation='softmax')#具有 10 个神经元（对应 0 到 9 的 10 个类别）。使用 Softmax 激活函数，将输出转换为概率分布，所有 10 个输出值的和为 1。\n",
    "])\n",
    "\n",
    "model.compile(optimizer='adam',#指定优化器。Adam 优化器是一种高效、常用的优化算法，用于调整模型的权重以最小化损失。\n",
    "  loss='sparse_categorical_crossentropy',#指定损失函数。这是用于多类别分类的交叉熵损失函数。\n",
    "  metrics=['accuracy'])#指定评估指标。在训练和测试期间，模型除了计算损失外，还会计算并报告准确率。\n",
    "\n",
    "model.fit(x_train, y_train, epochs=5)#epochs=5: 指定训练轮次。模型将对整个训练集迭代学习 5 次。每完成一轮 (epoch)，都会报告当前的损失和准确率。\n",
    "model.evaluate(x_test, y_test)"
   ],
   "id": "99d14689266fd2b8",
   "outputs": [
    {
     "name": "stdout",
     "output_type": "stream",
     "text": [
      "Epoch 1/5\n",
      "\u001B[1m1875/1875\u001B[0m \u001B[32m━━━━━━━━━━━━━━━━━━━━\u001B[0m\u001B[37m\u001B[0m \u001B[1m1s\u001B[0m 546us/step - accuracy: 0.9148 - loss: 0.2927\n",
      "Epoch 2/5\n",
      "\u001B[1m1875/1875\u001B[0m \u001B[32m━━━━━━━━━━━━━━━━━━━━\u001B[0m\u001B[37m\u001B[0m \u001B[1m1s\u001B[0m 532us/step - accuracy: 0.9579 - loss: 0.1427\n",
      "Epoch 3/5\n",
      "\u001B[1m1875/1875\u001B[0m \u001B[32m━━━━━━━━━━━━━━━━━━━━\u001B[0m\u001B[37m\u001B[0m \u001B[1m1s\u001B[0m 520us/step - accuracy: 0.9666 - loss: 0.1088\n",
      "Epoch 4/5\n",
      "\u001B[1m1875/1875\u001B[0m \u001B[32m━━━━━━━━━━━━━━━━━━━━\u001B[0m\u001B[37m\u001B[0m \u001B[1m1s\u001B[0m 537us/step - accuracy: 0.9728 - loss: 0.0884\n",
      "Epoch 5/5\n",
      "\u001B[1m1875/1875\u001B[0m \u001B[32m━━━━━━━━━━━━━━━━━━━━\u001B[0m\u001B[37m\u001B[0m \u001B[1m1s\u001B[0m 498us/step - accuracy: 0.9763 - loss: 0.0751\n",
      "\u001B[1m313/313\u001B[0m \u001B[32m━━━━━━━━━━━━━━━━━━━━\u001B[0m\u001B[37m\u001B[0m \u001B[1m0s\u001B[0m 272us/step - accuracy: 0.9770 - loss: 0.0728\n"
     ]
    },
    {
     "data": {
      "text/plain": [
       "[0.07284623384475708, 0.9769999980926514]"
      ]
     },
     "execution_count": 33,
     "metadata": {},
     "output_type": "execute_result"
    }
   ],
   "execution_count": 33
  },
  {
   "metadata": {},
   "cell_type": "markdown",
   "source": [
    "| 主要类别 | 典型网络类型 | 结构特点 | 典型应用领域 |\n",
    "| :--- | :--- | :--- | :--- |\n",
    "| **基础前馈/结构网络** | **多层感知机 (MLP)** | 最基础，信息**单向**流动，适合简单分类和回归。 | 简单分类、回归、预测。 |\n",
    "| | **卷积神经网络 (CNN)** | 引入**卷积层**提取局部特征，对**网格数据**高效。 | 图像识别、目标检测、视频分析。 |\n",
    "| | **残差网络 (ResNet)** | CNN 进阶版，通过**残差块**允许信息跳跃，解决深层网络的训练退化问题。 | 深度图像识别、高性能计算机视觉任务。 |\n",
    "| **序列处理网络** | **长短期记忆网络 (LSTM)** | 引入**门控机制**，有效捕捉**序列数据**中的**长期依赖**。 | 语音识别、机器翻译、文本生成、复杂的时序分析。 |\n",
    "| | **Transformer** | 完全基于**自注意力机制**，支持高度并行化，是现代序列模型的基石。 | **大型语言模型 (LLM)**、高性能机器翻译。 |\n",
    "| **进阶/专用架构** | **自编码器 (AE)** | 包含编码器和解码器，目标是重构输入。用于**无监督学习**。 | 数据**降维**、特征学习、去噪、异常检测。 |\n",
    "| | **生成对抗网络 (GAN)** | 由**生成器**和**判别器**相互对抗训练，目标是生成逼真的新数据。 | **图像生成**、图像风格迁移、数据增强。 |"
   ],
   "id": "6eeac4c78fccf407"
  },
  {
   "metadata": {},
   "cell_type": "markdown",
   "source": [
    "**demo project:（基于scikitlearn）**\n",
    "\n",
    "[Yeboah F. Classification and Evaluation of Machine Learning Algorithms on the MNIST Dataset[J]. 2025.](https://stars.library.ucf.edu/data-science-mining/27/)"
   ],
   "id": "9835a797e4dce128"
  },
  {
   "metadata": {
    "ExecuteTime": {
     "end_time": "2025-10-10T04:44:44.249891Z",
     "start_time": "2025-10-10T04:44:41.183153Z"
    }
   },
   "cell_type": "code",
   "source": [
    "# 示例子代码\n",
    "# 展平数据：将 (N, 28, 28) 形状转换为 (N, 784)\n",
    "x_train = x_train.reshape(x_train.shape[0], -1)\n",
    "x_test = x_test.reshape(x_test.shape[0], -1)\n",
    "\n",
    "from sklearn.neighbors import KNeighborsClassifier\n",
    "from sklearn.naive_bayes import MultinomialNB\n",
    "from sklearn.metrics import accuracy_score, precision_score, f1_score, classification_report\n",
    "import time\n",
    "\n",
    "# --- 2. K-Nearest Neighbor (KNN) 分类器 ---\n",
    "print(\"🚀 正在训练 K-Nearest Neighbor (KNN) 模型...\")\n",
    "start_time_knn = time.time()\n",
    "\n",
    "# 初始化 KNN 模型，选择 K=5\n",
    "knn = KNeighborsClassifier(n_neighbors=5, n_jobs=-1) # n_jobs=-1 使用所有核心加速计算\n",
    "\n",
    "# 训练模型（KNN 是惰性学习，此步骤很快）\n",
    "knn.fit(x_train, y_train)\n",
    "\n",
    "# 进行预测\n",
    "y_pred_knn = knn.predict(x_test)\n",
    "end_time_knn = time.time()\n",
    "print(f\"模型耗时: {end_time_knn - start_time_knn:.2f} 秒 (训练和预测)\")\n",
    "\n",
    "# --- 3. Naive Bayes (朴素贝叶斯) 分类器 ---\n",
    "# 使用 MultinomialNB (多项式朴素贝叶斯)，常用于特征为计数或频率的场景\n",
    "print(\"🚀 正在训练 Naive Bayes (朴素贝叶斯) 模型...\")\n",
    "start_time_nb = time.time()\n",
    "\n",
    "# 注意：MultinomialNB 要求输入非负整数或浮点数，我们使用归一化后的数据\n",
    "nb_classifier = MultinomialNB()\n",
    "\n",
    "# 训练模型\n",
    "nb_classifier.fit(x_train * 255.0, y_train) # 乘以 255 提升 MultinomialNB 的表现\n",
    "\n",
    "# 进行预测\n",
    "y_pred_nb = nb_classifier.predict(x_test * 255.0)\n",
    "end_time_knn = time.time()\n",
    "print(f\"模型耗时: {end_time_knn - start_time_knn:.2f} 秒 (训练和预测)\")\n",
    "\n",
    "def evaluate_model(y_true, y_pred, model_name):\n",
    "    \"\"\"计算并打印各种性能指标\"\"\"\n",
    "    print(f\"=== {model_name} 模型性能评估 ===\")\n",
    "\n",
    "    # 1. 准确率 (Accuracy)\n",
    "    accuracy = accuracy_score(y_true, y_pred)\n",
    "\n",
    "    # 2. 错误率 (Error Rate)\n",
    "    # 错误率 = 1 - 准确率\n",
    "    error_rate = 1 - accuracy\n",
    "\n",
    "    # 3. 精确率 (Precision) 和 F1-Score\n",
    "    # 使用 'weighted' 模式来计算多类别分类的平均值\n",
    "    precision = precision_score(y_true, y_pred, average='weighted', zero_division=0)\n",
    "    f1 = f1_score(y_true, y_pred, average='weighted', zero_division=0)\n",
    "\n",
    "    # 4. 完整的分类报告 (包含 Recall 等更多指标)\n",
    "    report = classification_report(y_true, y_pred, digits=4, zero_division=0)\n",
    "\n",
    "    print(f\"准确率 (Accuracy):   {accuracy:.4f}\")\n",
    "    print(f\"错误率 (Error Rate):  {error_rate:.4f}\")\n",
    "    print(f\"精确率 (Precision):   {precision:.4f}\")\n",
    "    print(f\"F1-Score:            {f1:.4f}\")\n",
    "\n",
    "    print(\"\\n--- 详细分类报告 ---\")\n",
    "    print(report)\n",
    "    print(\"=\" * 40)\n",
    "\n",
    "# 假设运行了 KNN 预测，评估 KNN\n",
    "evaluate_model(y_test, y_pred_knn, \"K-Nearest Neighbor (KNN)\")\n",
    "\n",
    "# 假设运行了 Naive Bayes 预测，评估 Naive Bayes\n",
    "evaluate_model(y_test, y_pred_nb, \"Multinomial Naive Bayes\")\n",
    "\n"
   ],
   "id": "79c3017274bc7755",
   "outputs": [
    {
     "name": "stdout",
     "output_type": "stream",
     "text": [
      "🚀 正在训练 K-Nearest Neighbor (KNN) 模型...\n",
      "模型耗时: 2.30 秒 (训练和预测)\n",
      "🚀 正在训练 Naive Bayes (朴素贝叶斯) 模型...\n",
      "模型耗时: 2.45 秒 (训练和预测)\n",
      "=== K-Nearest Neighbor (KNN) 模型性能评估 ===\n",
      "准确率 (Accuracy):   0.9688\n",
      "错误率 (Error Rate):  0.0312\n",
      "精确率 (Precision):   0.9690\n",
      "F1-Score:            0.9687\n",
      "\n",
      "--- 详细分类报告 ---\n",
      "              precision    recall  f1-score   support\n",
      "\n",
      "           0     0.9634    0.9939    0.9784       980\n",
      "           1     0.9545    0.9982    0.9759      1135\n",
      "           2     0.9822    0.9603    0.9711      1032\n",
      "           3     0.9644    0.9663    0.9654      1010\n",
      "           4     0.9762    0.9613    0.9687       982\n",
      "           5     0.9653    0.9664    0.9658       892\n",
      "           6     0.9813    0.9864    0.9839       958\n",
      "           7     0.9611    0.9611    0.9611      1028\n",
      "           8     0.9881    0.9374    0.9621       974\n",
      "           9     0.9563    0.9534    0.9548      1009\n",
      "\n",
      "    accuracy                         0.9688     10000\n",
      "   macro avg     0.9693    0.9685    0.9687     10000\n",
      "weighted avg     0.9690    0.9688    0.9687     10000\n",
      "\n",
      "========================================\n",
      "=== Multinomial Naive Bayes 模型性能评估 ===\n",
      "准确率 (Accuracy):   0.8365\n",
      "错误率 (Error Rate):  0.1635\n",
      "精确率 (Precision):   0.8445\n",
      "F1-Score:            0.8373\n",
      "\n",
      "--- 详细分类报告 ---\n",
      "              precision    recall  f1-score   support\n",
      "\n",
      "           0     0.9249    0.9306    0.9278       980\n",
      "           1     0.9123    0.9348    0.9234      1135\n",
      "           2     0.8984    0.8314    0.8636      1032\n",
      "           3     0.7976    0.8426    0.8195      1010\n",
      "           4     0.8433    0.7454    0.7914       982\n",
      "           5     0.8601    0.6614    0.7478       892\n",
      "           6     0.8857    0.8977    0.8917       958\n",
      "           7     0.9359    0.8375    0.8840      1028\n",
      "           8     0.6635    0.7977    0.7245       974\n",
      "           9     0.7115    0.8553    0.7768      1009\n",
      "\n",
      "    accuracy                         0.8365     10000\n",
      "   macro avg     0.8433    0.8335    0.8350     10000\n",
      "weighted avg     0.8445    0.8365    0.8373     10000\n",
      "\n",
      "========================================\n"
     ]
    },
    {
     "name": "stderr",
     "output_type": "stream",
     "text": [
      "/Library/Frameworks/Python.framework/Versions/3.12/lib/python3.12/site-packages/sklearn/utils/extmath.py:203: RuntimeWarning: divide by zero encountered in matmul\n",
      "  ret = a @ b\n",
      "/Library/Frameworks/Python.framework/Versions/3.12/lib/python3.12/site-packages/sklearn/utils/extmath.py:203: RuntimeWarning: overflow encountered in matmul\n",
      "  ret = a @ b\n",
      "/Library/Frameworks/Python.framework/Versions/3.12/lib/python3.12/site-packages/sklearn/utils/extmath.py:203: RuntimeWarning: invalid value encountered in matmul\n",
      "  ret = a @ b\n",
      "/Library/Frameworks/Python.framework/Versions/3.12/lib/python3.12/site-packages/sklearn/utils/extmath.py:203: RuntimeWarning: divide by zero encountered in matmul\n",
      "  ret = a @ b\n",
      "/Library/Frameworks/Python.framework/Versions/3.12/lib/python3.12/site-packages/sklearn/utils/extmath.py:203: RuntimeWarning: overflow encountered in matmul\n",
      "  ret = a @ b\n",
      "/Library/Frameworks/Python.framework/Versions/3.12/lib/python3.12/site-packages/sklearn/utils/extmath.py:203: RuntimeWarning: invalid value encountered in matmul\n",
      "  ret = a @ b\n"
     ]
    }
   ],
   "execution_count": 35
  }
 ],
 "metadata": {
  "kernelspec": {
   "display_name": "Python 3",
   "language": "python",
   "name": "python3"
  },
  "language_info": {
   "codemirror_mode": {
    "name": "ipython",
    "version": 2
   },
   "file_extension": ".py",
   "mimetype": "text/x-python",
   "name": "python",
   "nbconvert_exporter": "python",
   "pygments_lexer": "ipython2",
   "version": "2.7.6"
  }
 },
 "nbformat": 4,
 "nbformat_minor": 5
}
